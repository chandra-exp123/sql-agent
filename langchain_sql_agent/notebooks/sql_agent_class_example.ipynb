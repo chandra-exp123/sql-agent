{
 "cells": [
  {
   "cell_type": "markdown",
   "metadata": {},
   "source": [
    "# Building a SQL Agent\n",
    "\n",
    "This notebook shows how to build a SQL agent that can transform phrases in natural language into SQL queries using Langchain and LLMs. This notebook is a modifed version of the examples provided in the Langchain documentation available here: https://python.langchain.com/docs/tutorials/sql_qa/"
   ]
  },
  {
   "cell_type": "markdown",
   "metadata": {},
   "source": [
    "## Setup"
   ]
  },
  {
   "cell_type": "markdown",
   "metadata": {},
   "source": [
    "### Setting up path folder\n",
    "\n",
    "This section sets up the search path to include modules found in other folder of the project. If you put all your files in a single project shithis step is not needed. "
   ]
  },
  {
   "cell_type": "code",
   "execution_count": 6,
   "metadata": {},
   "outputs": [],
   "source": [
    "PARENT_FOLDER='notebooks'\n",
    "\n",
    "import os, sys\n",
    "\n",
    "this_path = os.getcwd()\n",
    "folders = this_path.split('/')\n",
    "index = folders.index(PARENT_FOLDER)\n",
    "steps_to_root = len(folders) - folders.index(PARENT_FOLDER)\n",
    "src_path = \"/\".join(['..'] * steps_to_root)\n",
    "\n",
    "if src_path not in sys.path:\n",
    "    sys.path.append(src_path)"
   ]
  },
  {
   "cell_type": "markdown",
   "metadata": {},
   "source": [
    "### Importing libraries"
   ]
  },
  {
   "cell_type": "code",
   "execution_count": 7,
   "metadata": {},
   "outputs": [],
   "source": [
    "from source.sql_agent import SQL_Agent, render\n",
    "import warnings"
   ]
  },
  {
   "cell_type": "markdown",
   "metadata": {},
   "source": [
    "### Initializing the agent\n",
    "This section configures the database and initializes the agent by specifying the database, dialect and the LLM to use. The SQL_Agent library assumes you have created a .env file with the appropiate environment variables needed to connect to your LLM."
   ]
  },
  {
   "cell_type": "code",
   "execution_count": 8,
   "metadata": {},
   "outputs": [],
   "source": [
    "warnings.filterwarnings('ignore') # to supresss LangSmith warnings\n",
    "\n",
    "db_uri=\"sqlite:///Chinook.db\"\n",
    "db_dialect = \"SQLite\"\n",
    "my_agent = SQL_Agent(model_provider=\"openai\",model_name=\"gpt-4o-mini\",database_uri=db_uri, dialect=db_dialect, top_k=5)"
   ]
  },
  {
   "cell_type": "markdown",
   "metadata": {},
   "source": [
    "## Execution"
   ]
  },
  {
   "cell_type": "markdown",
   "metadata": {},
   "source": [
    "This question can be answered from a single table."
   ]
  },
  {
   "cell_type": "code",
   "execution_count": 9,
   "metadata": {},
   "outputs": [
    {
     "data": {
      "text/markdown": [
       "The country with the biggest sales is the **USA**, with total sales amounting to **$523.06**. Here are the top countries by sales:\n",
       "\n",
       "1. **USA**: $523.06\n",
       "2. **Canada**: $303.96\n",
       "3. **France**: $195.10\n",
       "4. **Brazil**: $190.10\n",
       "5. **Germany**: $156.48"
      ],
      "text/plain": [
       "<IPython.core.display.Markdown object>"
      ]
     },
     "metadata": {},
     "output_type": "display_data"
    }
   ],
   "source": [
    "question = \"What country has the biggest sales?\"\n",
    "render(my_agent.answer(question))"
   ]
  },
  {
   "cell_type": "markdown",
   "metadata": {},
   "source": [
    "We modify the invocation to stream the answer and see how the Agent is thinking."
   ]
  },
  {
   "cell_type": "code",
   "execution_count": 10,
   "metadata": {},
   "outputs": [
    {
     "name": "stdout",
     "output_type": "stream",
     "text": [
      "================================\u001b[1m Human Message \u001b[0m=================================\n",
      "\n",
      "What country has the biggest sales?\n",
      "==================================\u001b[1m Ai Message \u001b[0m==================================\n",
      "Tool Calls:\n",
      "  sql_db_list_tables (call_XCDiNTE4fLFJnddXa6OQK5QI)\n",
      " Call ID: call_XCDiNTE4fLFJnddXa6OQK5QI\n",
      "  Args:\n",
      "=================================\u001b[1m Tool Message \u001b[0m=================================\n",
      "Name: sql_db_list_tables\n",
      "\n",
      "Album, Artist, Customer, Employee, Genre, Invoice, InvoiceLine, MediaType, Playlist, PlaylistTrack, Track\n",
      "==================================\u001b[1m Ai Message \u001b[0m==================================\n",
      "Tool Calls:\n",
      "  sql_db_schema (call_v2A9ma7UtaHabF2zjSL3l2ts)\n",
      " Call ID: call_v2A9ma7UtaHabF2zjSL3l2ts\n",
      "  Args:\n",
      "    table_names: Invoice\n",
      "  sql_db_schema (call_txtdfUoVdJvPCJjqlLKOdAEo)\n",
      " Call ID: call_txtdfUoVdJvPCJjqlLKOdAEo\n",
      "  Args:\n",
      "    table_names: Customer\n",
      "=================================\u001b[1m Tool Message \u001b[0m=================================\n",
      "Name: sql_db_schema\n",
      "\n",
      "\n",
      "CREATE TABLE \"Customer\" (\n",
      "\t\"CustomerId\" INTEGER NOT NULL, \n",
      "\t\"FirstName\" NVARCHAR(40) NOT NULL, \n",
      "\t\"LastName\" NVARCHAR(20) NOT NULL, \n",
      "\t\"Company\" NVARCHAR(80), \n",
      "\t\"Address\" NVARCHAR(70), \n",
      "\t\"City\" NVARCHAR(40), \n",
      "\t\"State\" NVARCHAR(40), \n",
      "\t\"Country\" NVARCHAR(40), \n",
      "\t\"PostalCode\" NVARCHAR(10), \n",
      "\t\"Phone\" NVARCHAR(24), \n",
      "\t\"Fax\" NVARCHAR(24), \n",
      "\t\"Email\" NVARCHAR(60) NOT NULL, \n",
      "\t\"SupportRepId\" INTEGER, \n",
      "\tPRIMARY KEY (\"CustomerId\"), \n",
      "\tFOREIGN KEY(\"SupportRepId\") REFERENCES \"Employee\" (\"EmployeeId\")\n",
      ")\n",
      "\n",
      "/*\n",
      "3 rows from Customer table:\n",
      "CustomerId\tFirstName\tLastName\tCompany\tAddress\tCity\tState\tCountry\tPostalCode\tPhone\tFax\tEmail\tSupportRepId\n",
      "1\tLuís\tGonçalves\tEmbraer - Empresa Brasileira de Aeronáutica S.A.\tAv. Brigadeiro Faria Lima, 2170\tSão José dos Campos\tSP\tBrazil\t12227-000\t+55 (12) 3923-5555\t+55 (12) 3923-5566\tluisg@embraer.com.br\t3\n",
      "2\tLeonie\tKöhler\tNone\tTheodor-Heuss-Straße 34\tStuttgart\tNone\tGermany\t70174\t+49 0711 2842222\tNone\tleonekohler@surfeu.de\t5\n",
      "3\tFrançois\tTremblay\tNone\t1498 rue Bélanger\tMontréal\tQC\tCanada\tH2G 1A7\t+1 (514) 721-4711\tNone\tftremblay@gmail.com\t3\n",
      "*/\n",
      "==================================\u001b[1m Ai Message \u001b[0m==================================\n",
      "Tool Calls:\n",
      "  sql_db_query_checker (call_PXRevkpZHxOg41Cop5qjWsk0)\n",
      " Call ID: call_PXRevkpZHxOg41Cop5qjWsk0\n",
      "  Args:\n",
      "    query: SELECT BillingCountry, SUM(Total) AS TotalSales FROM Invoice GROUP BY BillingCountry ORDER BY TotalSales DESC LIMIT 5;\n",
      "=================================\u001b[1m Tool Message \u001b[0m=================================\n",
      "Name: sql_db_query_checker\n",
      "\n",
      "```sql\n",
      "SELECT BillingCountry, SUM(Total) AS TotalSales FROM Invoice GROUP BY BillingCountry ORDER BY TotalSales DESC LIMIT 5;\n",
      "```\n",
      "==================================\u001b[1m Ai Message \u001b[0m==================================\n",
      "Tool Calls:\n",
      "  sql_db_query (call_6oMuSnu0rKKPOAudUWKx9BH9)\n",
      " Call ID: call_6oMuSnu0rKKPOAudUWKx9BH9\n",
      "  Args:\n",
      "    query: SELECT BillingCountry, SUM(Total) AS TotalSales FROM Invoice GROUP BY BillingCountry ORDER BY TotalSales DESC LIMIT 5;\n",
      "=================================\u001b[1m Tool Message \u001b[0m=================================\n",
      "Name: sql_db_query\n",
      "\n",
      "[('USA', 523.06), ('Canada', 303.96), ('France', 195.1), ('Brazil', 190.1), ('Germany', 156.48)]\n",
      "==================================\u001b[1m Ai Message \u001b[0m==================================\n",
      "\n",
      "The country with the biggest sales is the **USA**, with total sales amounting to **$523.06**. Here are the top five countries with the highest sales:\n",
      "\n",
      "1. **USA**: $523.06\n",
      "2. **Canada**: $303.96\n",
      "3. **France**: $195.10\n",
      "4. **Brazil**: $190.10\n",
      "5. **Germany**: $156.48\n"
     ]
    },
    {
     "data": {
      "text/markdown": [
       "The country with the biggest sales is the **USA**, with total sales amounting to **$523.06**. Here are the top five countries with the highest sales:\n",
       "\n",
       "1. **USA**: $523.06\n",
       "2. **Canada**: $303.96\n",
       "3. **France**: $195.10\n",
       "4. **Brazil**: $190.10\n",
       "5. **Germany**: $156.48"
      ],
      "text/plain": [
       "<IPython.core.display.Markdown object>"
      ]
     },
     "metadata": {},
     "output_type": "display_data"
    }
   ],
   "source": [
    "question = \"What country has the biggest sales?\"\n",
    "render(my_agent.stream_answer(question))"
   ]
  },
  {
   "cell_type": "markdown",
   "metadata": {},
   "source": [
    "This question requires the use of 3 tables."
   ]
  },
  {
   "cell_type": "code",
   "execution_count": 11,
   "metadata": {},
   "outputs": [
    {
     "name": "stdout",
     "output_type": "stream",
     "text": [
      "================================\u001b[1m Human Message \u001b[0m=================================\n",
      "\n",
      "What Album has sold the most tracks?\n",
      "==================================\u001b[1m Ai Message \u001b[0m==================================\n",
      "Tool Calls:\n",
      "  sql_db_list_tables (call_h1x7B45x0kYQ0AZcf2Vx6xrs)\n",
      " Call ID: call_h1x7B45x0kYQ0AZcf2Vx6xrs\n",
      "  Args:\n",
      "=================================\u001b[1m Tool Message \u001b[0m=================================\n",
      "Name: sql_db_list_tables\n",
      "\n",
      "Album, Artist, Customer, Employee, Genre, Invoice, InvoiceLine, MediaType, Playlist, PlaylistTrack, Track\n",
      "==================================\u001b[1m Ai Message \u001b[0m==================================\n",
      "Tool Calls:\n",
      "  sql_db_schema (call_6G9QndJrInFAUz3KJEIQC6Pm)\n",
      " Call ID: call_6G9QndJrInFAUz3KJEIQC6Pm\n",
      "  Args:\n",
      "    table_names: Album\n",
      "  sql_db_schema (call_rBu4g2fw1Oze2R9HMQTHnDLX)\n",
      " Call ID: call_rBu4g2fw1Oze2R9HMQTHnDLX\n",
      "  Args:\n",
      "    table_names: Track\n",
      "  sql_db_schema (call_uCFv6QktVlQdFoCKxZ7uJ2at)\n",
      " Call ID: call_uCFv6QktVlQdFoCKxZ7uJ2at\n",
      "  Args:\n",
      "    table_names: InvoiceLine\n",
      "=================================\u001b[1m Tool Message \u001b[0m=================================\n",
      "Name: sql_db_schema\n",
      "\n",
      "\n",
      "CREATE TABLE \"InvoiceLine\" (\n",
      "\t\"InvoiceLineId\" INTEGER NOT NULL, \n",
      "\t\"InvoiceId\" INTEGER NOT NULL, \n",
      "\t\"TrackId\" INTEGER NOT NULL, \n",
      "\t\"UnitPrice\" NUMERIC(10, 2) NOT NULL, \n",
      "\t\"Quantity\" INTEGER NOT NULL, \n",
      "\tPRIMARY KEY (\"InvoiceLineId\"), \n",
      "\tFOREIGN KEY(\"TrackId\") REFERENCES \"Track\" (\"TrackId\"), \n",
      "\tFOREIGN KEY(\"InvoiceId\") REFERENCES \"Invoice\" (\"InvoiceId\")\n",
      ")\n",
      "\n",
      "/*\n",
      "3 rows from InvoiceLine table:\n",
      "InvoiceLineId\tInvoiceId\tTrackId\tUnitPrice\tQuantity\n",
      "1\t1\t2\t0.99\t1\n",
      "2\t1\t4\t0.99\t1\n",
      "3\t2\t6\t0.99\t1\n",
      "*/\n",
      "==================================\u001b[1m Ai Message \u001b[0m==================================\n",
      "Tool Calls:\n",
      "  sql_db_query_checker (call_570q5mkE5oxkDEAUCT9hH3gr)\n",
      " Call ID: call_570q5mkE5oxkDEAUCT9hH3gr\n",
      "  Args:\n",
      "    query: SELECT a.Title, SUM(il.Quantity) AS TotalSold \n",
      "FROM Album a \n",
      "JOIN Track t ON a.AlbumId = t.AlbumId \n",
      "JOIN InvoiceLine il ON t.TrackId = il.TrackId \n",
      "GROUP BY a.AlbumId \n",
      "ORDER BY TotalSold DESC \n",
      "LIMIT 5;\n",
      "=================================\u001b[1m Tool Message \u001b[0m=================================\n",
      "Name: sql_db_query_checker\n",
      "\n",
      "```sql\n",
      "SELECT a.Title, SUM(il.Quantity) AS TotalSold \n",
      "FROM Album a \n",
      "JOIN Track t ON a.AlbumId = t.AlbumId \n",
      "JOIN InvoiceLine il ON t.TrackId = il.TrackId \n",
      "GROUP BY a.AlbumId, a.Title \n",
      "ORDER BY TotalSold DESC \n",
      "LIMIT 5;\n",
      "```\n",
      "==================================\u001b[1m Ai Message \u001b[0m==================================\n",
      "Tool Calls:\n",
      "  sql_db_query (call_7yZSWnasCAGITChHH2gdrjV5)\n",
      " Call ID: call_7yZSWnasCAGITChHH2gdrjV5\n",
      "  Args:\n",
      "    query: SELECT a.Title, SUM(il.Quantity) AS TotalSold \n",
      "FROM Album a \n",
      "JOIN Track t ON a.AlbumId = t.AlbumId \n",
      "JOIN InvoiceLine il ON t.TrackId = il.TrackId \n",
      "GROUP BY a.AlbumId, a.Title \n",
      "ORDER BY TotalSold DESC \n",
      "LIMIT 5;\n",
      "=================================\u001b[1m Tool Message \u001b[0m=================================\n",
      "Name: sql_db_query\n",
      "\n",
      "[('Minha Historia', 27), ('Greatest Hits', 26), ('Unplugged', 25), ('Acústico', 22), ('Greatest Kiss', 20)]\n",
      "==================================\u001b[1m Ai Message \u001b[0m==================================\n",
      "\n",
      "The album that has sold the most tracks is **\"Minha Historia\"** with a total of 27 tracks sold. Here are some other top-selling albums:\n",
      "\n",
      "1. **\"Greatest Hits\"** - 26 tracks sold\n",
      "2. **\"Unplugged\"** - 25 tracks sold\n",
      "3. **\"Acústico\"** - 22 tracks sold\n",
      "4. **\"Greatest Kiss\"** - 20 tracks sold\n"
     ]
    },
    {
     "data": {
      "text/markdown": [
       "The album that has sold the most tracks is **\"Minha Historia\"** with a total of 27 tracks sold. Here are some other top-selling albums:\n",
       "\n",
       "1. **\"Greatest Hits\"** - 26 tracks sold\n",
       "2. **\"Unplugged\"** - 25 tracks sold\n",
       "3. **\"Acústico\"** - 22 tracks sold\n",
       "4. **\"Greatest Kiss\"** - 20 tracks sold"
      ],
      "text/plain": [
       "<IPython.core.display.Markdown object>"
      ]
     },
     "metadata": {},
     "output_type": "display_data"
    }
   ],
   "source": [
    "question = \"What Album has sold the most tracks?\"\n",
    "render(my_agent.stream_answer(question))"
   ]
  },
  {
   "cell_type": "markdown",
   "metadata": {},
   "source": [
    "This cell shows the default template used by the agent. "
   ]
  },
  {
   "cell_type": "code",
   "execution_count": 12,
   "metadata": {},
   "outputs": [
    {
     "data": {
      "text/markdown": [
       "You are an agent designed to interact with a SQL database.\n",
       "Given an input question, create a syntactically correct {dialect} query to run, then look at the results of the query and return the answer.\n",
       "Unless the user specifies a specific number of examples they wish to obtain, always limit your query to at most {top_k} results.\n",
       "You can order the results by a relevant column to return the most interesting examples in the database.\n",
       "Never query for all the columns from a specific table, only ask for the relevant columns given the question.\n",
       "You have access to tools for interacting with the database.\n",
       "Only use the below tools. Only use the information returned by the below tools to construct your final answer.\n",
       "You MUST double check your query before executing it. If you get an error while executing a query, rewrite the query and try again.\n",
       "\n",
       "DO NOT make any DML statements (INSERT, UPDATE, DELETE, DROP etc.) to the database.\n",
       "\n",
       "To start you should ALWAYS look at the tables in the database to see what you can query.\n",
       "Do NOT skip this step.\n",
       "Then you should query the schema of the most relevant tables."
      ],
      "text/plain": [
       "<IPython.core.display.Markdown object>"
      ]
     },
     "metadata": {},
     "output_type": "display_data"
    }
   ],
   "source": [
    "render(my_agent.prompt_template.messages[0].prompt.template)"
   ]
  },
  {
   "cell_type": "markdown",
   "metadata": {},
   "source": [
    "This question requires 2 queries to be answered. "
   ]
  },
  {
   "cell_type": "code",
   "execution_count": 13,
   "metadata": {},
   "outputs": [
    {
     "name": "stdout",
     "output_type": "stream",
     "text": [
      "================================\u001b[1m Human Message \u001b[0m=================================\n",
      "\n",
      "What is the average duration of the top 5 best selling tracks?\n",
      "==================================\u001b[1m Ai Message \u001b[0m==================================\n",
      "Tool Calls:\n",
      "  sql_db_list_tables (call_VNdrLjoTff2OQn8CbBW6ed8X)\n",
      " Call ID: call_VNdrLjoTff2OQn8CbBW6ed8X\n",
      "  Args:\n",
      "=================================\u001b[1m Tool Message \u001b[0m=================================\n",
      "Name: sql_db_list_tables\n",
      "\n",
      "Album, Artist, Customer, Employee, Genre, Invoice, InvoiceLine, MediaType, Playlist, PlaylistTrack, Track\n",
      "==================================\u001b[1m Ai Message \u001b[0m==================================\n",
      "Tool Calls:\n",
      "  sql_db_schema (call_69IQoat096p1Mi67x3qEgwGJ)\n",
      " Call ID: call_69IQoat096p1Mi67x3qEgwGJ\n",
      "  Args:\n",
      "    table_names: Track\n",
      "  sql_db_schema (call_H6i0sSa1UJ4UtsXbRt0JXJuQ)\n",
      " Call ID: call_H6i0sSa1UJ4UtsXbRt0JXJuQ\n",
      "  Args:\n",
      "    table_names: InvoiceLine\n",
      "=================================\u001b[1m Tool Message \u001b[0m=================================\n",
      "Name: sql_db_schema\n",
      "\n",
      "\n",
      "CREATE TABLE \"InvoiceLine\" (\n",
      "\t\"InvoiceLineId\" INTEGER NOT NULL, \n",
      "\t\"InvoiceId\" INTEGER NOT NULL, \n",
      "\t\"TrackId\" INTEGER NOT NULL, \n",
      "\t\"UnitPrice\" NUMERIC(10, 2) NOT NULL, \n",
      "\t\"Quantity\" INTEGER NOT NULL, \n",
      "\tPRIMARY KEY (\"InvoiceLineId\"), \n",
      "\tFOREIGN KEY(\"TrackId\") REFERENCES \"Track\" (\"TrackId\"), \n",
      "\tFOREIGN KEY(\"InvoiceId\") REFERENCES \"Invoice\" (\"InvoiceId\")\n",
      ")\n",
      "\n",
      "/*\n",
      "3 rows from InvoiceLine table:\n",
      "InvoiceLineId\tInvoiceId\tTrackId\tUnitPrice\tQuantity\n",
      "1\t1\t2\t0.99\t1\n",
      "2\t1\t4\t0.99\t1\n",
      "3\t2\t6\t0.99\t1\n",
      "*/\n",
      "==================================\u001b[1m Ai Message \u001b[0m==================================\n",
      "Tool Calls:\n",
      "  sql_db_query_checker (call_6hySwPpVe0ZWF4ffr9IDSLiJ)\n",
      " Call ID: call_6hySwPpVe0ZWF4ffr9IDSLiJ\n",
      "  Args:\n",
      "    query: SELECT Track.Name, Track.Milliseconds FROM Track INNER JOIN InvoiceLine ON Track.TrackId = InvoiceLine.TrackId GROUP BY Track.TrackId ORDER BY SUM(InvoiceLine.Quantity) DESC LIMIT 5;\n",
      "=================================\u001b[1m Tool Message \u001b[0m=================================\n",
      "Name: sql_db_query_checker\n",
      "\n",
      "```sql\n",
      "SELECT Track.Name, Track.Milliseconds \n",
      "FROM Track \n",
      "INNER JOIN InvoiceLine ON Track.TrackId = InvoiceLine.TrackId \n",
      "GROUP BY Track.TrackId, Track.Name, Track.Milliseconds \n",
      "ORDER BY SUM(InvoiceLine.Quantity) DESC \n",
      "LIMIT 5;\n",
      "```\n",
      "==================================\u001b[1m Ai Message \u001b[0m==================================\n",
      "Tool Calls:\n",
      "  sql_db_query (call_Ybg9P4LwkoJfOn0ped2ys0uQ)\n",
      " Call ID: call_Ybg9P4LwkoJfOn0ped2ys0uQ\n",
      "  Args:\n",
      "    query: SELECT Track.Name, Track.Milliseconds FROM Track INNER JOIN InvoiceLine ON Track.TrackId = InvoiceLine.TrackId GROUP BY Track.TrackId, Track.Name, Track.Milliseconds ORDER BY SUM(InvoiceLine.Quantity) DESC LIMIT 5;\n",
      "=================================\u001b[1m Tool Message \u001b[0m=================================\n",
      "Name: sql_db_query\n",
      "\n",
      "[('Balls to the Wall', 342562), ('Inject The Venom', 210834), ('Snowballed', 203102), ('Overdose', 369319), ('Deuces Are Wild', 215875)]\n",
      "==================================\u001b[1m Ai Message \u001b[0m==================================\n",
      "Tool Calls:\n",
      "  sql_db_query_checker (call_0dVrm5FU7R91YWHFUBsBzay9)\n",
      " Call ID: call_0dVrm5FU7R91YWHFUBsBzay9\n",
      "  Args:\n",
      "    query: SELECT AVG(Milliseconds) as AverageDuration FROM (SELECT Track.Milliseconds FROM Track INNER JOIN InvoiceLine ON Track.TrackId = InvoiceLine.TrackId GROUP BY Track.TrackId ORDER BY SUM(InvoiceLine.Quantity) DESC LIMIT 5);\n",
      "=================================\u001b[1m Tool Message \u001b[0m=================================\n",
      "Name: sql_db_query_checker\n",
      "\n",
      "```sql\n",
      "SELECT AVG(Milliseconds) as AverageDuration FROM (SELECT Track.Milliseconds FROM Track INNER JOIN InvoiceLine ON Track.TrackId = InvoiceLine.TrackId GROUP BY Track.TrackId ORDER BY SUM(InvoiceLine.Quantity) DESC LIMIT 5);\n",
      "```\n",
      "==================================\u001b[1m Ai Message \u001b[0m==================================\n",
      "Tool Calls:\n",
      "  sql_db_query (call_7IZMd0JNCKRt90wx5C0dssOo)\n",
      " Call ID: call_7IZMd0JNCKRt90wx5C0dssOo\n",
      "  Args:\n",
      "    query: SELECT AVG(Milliseconds) as AverageDuration FROM (SELECT Track.Milliseconds FROM Track INNER JOIN InvoiceLine ON Track.TrackId = InvoiceLine.TrackId GROUP BY Track.TrackId ORDER BY SUM(InvoiceLine.Quantity) DESC LIMIT 5);\n",
      "=================================\u001b[1m Tool Message \u001b[0m=================================\n",
      "Name: sql_db_query\n",
      "\n",
      "[(268338.4,)]\n",
      "==================================\u001b[1m Ai Message \u001b[0m==================================\n",
      "\n",
      "The average duration of the top 5 best selling tracks is approximately 268,338 milliseconds, which is about 4 minutes and 28 seconds.\n"
     ]
    },
    {
     "data": {
      "text/markdown": [
       "The average duration of the top 5 best selling tracks is approximately 268,338 milliseconds, which is about 4 minutes and 28 seconds."
      ],
      "text/plain": [
       "<IPython.core.display.Markdown object>"
      ]
     },
     "metadata": {},
     "output_type": "display_data"
    }
   ],
   "source": [
    "question = \"What is the average duration of the top 5 best selling tracks?\"\n",
    "render(my_agent.stream_answer(question))"
   ]
  },
  {
   "cell_type": "markdown",
   "metadata": {},
   "source": [
    "This question requires 3 queries to be answered."
   ]
  },
  {
   "cell_type": "code",
   "execution_count": 14,
   "metadata": {},
   "outputs": [
    {
     "name": "stdout",
     "output_type": "stream",
     "text": [
      "================================\u001b[1m Human Message \u001b[0m=================================\n",
      "\n",
      "What percent of customers bought tracks from the 2 albums with the higest sales?\n",
      "==================================\u001b[1m Ai Message \u001b[0m==================================\n",
      "Tool Calls:\n",
      "  sql_db_list_tables (call_jgQg3eMKa26onq7FnHHbPDkn)\n",
      " Call ID: call_jgQg3eMKa26onq7FnHHbPDkn\n",
      "  Args:\n",
      "=================================\u001b[1m Tool Message \u001b[0m=================================\n",
      "Name: sql_db_list_tables\n",
      "\n",
      "Album, Artist, Customer, Employee, Genre, Invoice, InvoiceLine, MediaType, Playlist, PlaylistTrack, Track\n",
      "==================================\u001b[1m Ai Message \u001b[0m==================================\n",
      "Tool Calls:\n",
      "  sql_db_schema (call_OlZREJr9zcBZgcO0GnIxndU9)\n",
      " Call ID: call_OlZREJr9zcBZgcO0GnIxndU9\n",
      "  Args:\n",
      "    table_names: Album, Invoice, InvoiceLine, Track\n",
      "  sql_db_query (call_cHyhM395tvtFNa7dnv43qxrs)\n",
      " Call ID: call_cHyhM395tvtFNa7dnv43qxrs\n",
      "  Args:\n",
      "    query: SELECT AlbumId, SUM(Quantity) as TotalSales FROM InvoiceLine GROUP BY AlbumId ORDER BY TotalSales DESC LIMIT 2;\n",
      "  sql_db_query (call_nlJXvuagyHJ3zWMknYF4rEg4)\n",
      " Call ID: call_nlJXvuagyHJ3zWMknYF4rEg4\n",
      "  Args:\n",
      "    query: SELECT COUNT(DISTINCT CustomerId) as TotalCustomers FROM Invoice;\n",
      "=================================\u001b[1m Tool Message \u001b[0m=================================\n",
      "Name: sql_db_query\n",
      "\n",
      "[(59,)]\n",
      "==================================\u001b[1m Ai Message \u001b[0m==================================\n",
      "Tool Calls:\n",
      "  sql_db_query_checker (call_Kl5jKcx33Za7i448TvchICcY)\n",
      " Call ID: call_Kl5jKcx33Za7i448TvchICcY\n",
      "  Args:\n",
      "    query: SELECT Track.AlbumId, SUM(InvoiceLine.Quantity) as TotalSales FROM InvoiceLine JOIN Track ON InvoiceLine.TrackId = Track.TrackId GROUP BY Track.AlbumId ORDER BY TotalSales DESC LIMIT 2;\n",
      "=================================\u001b[1m Tool Message \u001b[0m=================================\n",
      "Name: sql_db_query_checker\n",
      "\n",
      "```sql\n",
      "SELECT Track.AlbumId, SUM(InvoiceLine.Quantity) as TotalSales FROM InvoiceLine JOIN Track ON InvoiceLine.TrackId = Track.TrackId GROUP BY Track.AlbumId ORDER BY TotalSales DESC LIMIT 2;\n",
      "```\n",
      "==================================\u001b[1m Ai Message \u001b[0m==================================\n",
      "Tool Calls:\n",
      "  sql_db_query (call_qLpkijprVDbTCUU475pR61eu)\n",
      " Call ID: call_qLpkijprVDbTCUU475pR61eu\n",
      "  Args:\n",
      "    query: SELECT Track.AlbumId, SUM(InvoiceLine.Quantity) as TotalSales FROM InvoiceLine JOIN Track ON InvoiceLine.TrackId = Track.TrackId GROUP BY Track.AlbumId ORDER BY TotalSales DESC LIMIT 2;\n",
      "  sql_db_query (call_raszUVF6OH6YB3aKHCsiJHJ2)\n",
      " Call ID: call_raszUVF6OH6YB3aKHCsiJHJ2\n",
      "  Args:\n",
      "    query: SELECT COUNT(DISTINCT CustomerId) as TotalCustomers FROM Invoice;\n",
      "=================================\u001b[1m Tool Message \u001b[0m=================================\n",
      "Name: sql_db_query\n",
      "\n",
      "[(59,)]\n",
      "==================================\u001b[1m Ai Message \u001b[0m==================================\n",
      "\n",
      "The two albums with the highest sales have the following total sales:\n",
      "\n",
      "1. Album ID 23: 27 sales\n",
      "2. Album ID 141: 26 sales\n",
      "\n",
      "The total number of distinct customers who made purchases is 59.\n",
      "\n",
      "Now, let's find out how many unique customers bought tracks from these albums. We can do this by checking the distinct customers in the invoices where tracks from these two albums were sold.\n",
      "\n",
      "I will now query the database to get the distinct customers who purchased tracks from these albums.\n",
      "Tool Calls:\n",
      "  sql_db_query_checker (call_bSM9LH7s8YLxGMc6qxwSC26n)\n",
      " Call ID: call_bSM9LH7s8YLxGMc6qxwSC26n\n",
      "  Args:\n",
      "    query: SELECT COUNT(DISTINCT Invoice.CustomerId) as CustomersCount FROM InvoiceLine JOIN Track ON InvoiceLine.TrackId = Track.TrackId JOIN Invoice ON InvoiceLine.InvoiceId = Invoice.InvoiceId WHERE Track.AlbumId IN (23, 141);\n",
      "=================================\u001b[1m Tool Message \u001b[0m=================================\n",
      "Name: sql_db_query_checker\n",
      "\n",
      "```sql\n",
      "SELECT COUNT(DISTINCT Invoice.CustomerId) as CustomersCount \n",
      "FROM InvoiceLine \n",
      "JOIN Track ON InvoiceLine.TrackId = Track.TrackId \n",
      "JOIN Invoice ON InvoiceLine.InvoiceId = Invoice.InvoiceId \n",
      "WHERE Track.AlbumId IN (23, 141);\n",
      "```\n",
      "==================================\u001b[1m Ai Message \u001b[0m==================================\n",
      "Tool Calls:\n",
      "  sql_db_query (call_a0VrhXG375EviICeyaybK5Ve)\n",
      " Call ID: call_a0VrhXG375EviICeyaybK5Ve\n",
      "  Args:\n",
      "    query: SELECT COUNT(DISTINCT Invoice.CustomerId) as CustomersCount FROM InvoiceLine JOIN Track ON InvoiceLine.TrackId = Track.TrackId JOIN Invoice ON InvoiceLine.InvoiceId = Invoice.InvoiceId WHERE Track.AlbumId IN (23, 141);\n",
      "=================================\u001b[1m Tool Message \u001b[0m=================================\n",
      "Name: sql_db_query\n",
      "\n",
      "[(25,)]\n",
      "==================================\u001b[1m Ai Message \u001b[0m==================================\n",
      "\n",
      "A total of 25 distinct customers purchased tracks from the two albums with the highest sales.\n",
      "\n",
      "Now, to calculate the percentage of those customers compared to the total number of customers:\n",
      "\n",
      "\\[\n",
      "\\text{Percentage} = \\left( \\frac{\\text{CustomersCount}}{\\text{TotalCustomers}} \\right) \\times 100 = \\left( \\frac{25}{59} \\right) \\times 100 \\approx 42.37\\%\n",
      "\\]\n",
      "\n",
      "Therefore, approximately **42.37%** of customers bought tracks from the two albums with the highest sales.\n"
     ]
    },
    {
     "data": {
      "text/markdown": [
       "A total of 25 distinct customers purchased tracks from the two albums with the highest sales.\n",
       "\n",
       "Now, to calculate the percentage of those customers compared to the total number of customers:\n",
       "\n",
       "\\[\n",
       "\\text{Percentage} = \\left( \\frac{\\text{CustomersCount}}{\\text{TotalCustomers}} \\right) \\times 100 = \\left( \\frac{25}{59} \\right) \\times 100 \\approx 42.37\\%\n",
       "\\]\n",
       "\n",
       "Therefore, approximately **42.37%** of customers bought tracks from the two albums with the highest sales."
      ],
      "text/plain": [
       "<IPython.core.display.Markdown object>"
      ]
     },
     "metadata": {},
     "output_type": "display_data"
    }
   ],
   "source": [
    "question = \"What percent of customers bought tracks from the 2 albums with the higest sales?\"\n",
    "render(my_agent.stream_answer(question))"
   ]
  },
  {
   "cell_type": "markdown",
   "metadata": {},
   "source": [
    "We include more specific instructions to make sure that sales are taking into account the price and not just the quantities."
   ]
  },
  {
   "cell_type": "code",
   "execution_count": 16,
   "metadata": {},
   "outputs": [
    {
     "name": "stdout",
     "output_type": "stream",
     "text": [
      "================================\u001b[1m Human Message \u001b[0m=================================\n",
      "\n",
      "Defining sales as the product of quantity by unit price, what percent of customers have bought tracks from the 2 albums with the higest sales?\n",
      "==================================\u001b[1m Ai Message \u001b[0m==================================\n",
      "Tool Calls:\n",
      "  sql_db_list_tables (call_StOY84PZqkbbvieOvSu7wlBV)\n",
      " Call ID: call_StOY84PZqkbbvieOvSu7wlBV\n",
      "  Args:\n",
      "=================================\u001b[1m Tool Message \u001b[0m=================================\n",
      "Name: sql_db_list_tables\n",
      "\n",
      "Album, Artist, Customer, Employee, Genre, Invoice, InvoiceLine, MediaType, Playlist, PlaylistTrack, Track\n",
      "==================================\u001b[1m Ai Message \u001b[0m==================================\n",
      "Tool Calls:\n",
      "  sql_db_schema (call_xgVABVawuYoWLrpL3DxnTuhI)\n",
      " Call ID: call_xgVABVawuYoWLrpL3DxnTuhI\n",
      "  Args:\n",
      "    table_names: Album, Track, InvoiceLine, Customer\n",
      "  sql_db_schema (call_f3wLQRyR7NJ0aPTPoQtKbzBk)\n",
      " Call ID: call_f3wLQRyR7NJ0aPTPoQtKbzBk\n",
      "  Args:\n",
      "    table_names: Invoice\n",
      "=================================\u001b[1m Tool Message \u001b[0m=================================\n",
      "Name: sql_db_schema\n",
      "\n",
      "\n",
      "CREATE TABLE \"Invoice\" (\n",
      "\t\"InvoiceId\" INTEGER NOT NULL, \n",
      "\t\"CustomerId\" INTEGER NOT NULL, \n",
      "\t\"InvoiceDate\" DATETIME NOT NULL, \n",
      "\t\"BillingAddress\" NVARCHAR(70), \n",
      "\t\"BillingCity\" NVARCHAR(40), \n",
      "\t\"BillingState\" NVARCHAR(40), \n",
      "\t\"BillingCountry\" NVARCHAR(40), \n",
      "\t\"BillingPostalCode\" NVARCHAR(10), \n",
      "\t\"Total\" NUMERIC(10, 2) NOT NULL, \n",
      "\tPRIMARY KEY (\"InvoiceId\"), \n",
      "\tFOREIGN KEY(\"CustomerId\") REFERENCES \"Customer\" (\"CustomerId\")\n",
      ")\n",
      "\n",
      "/*\n",
      "3 rows from Invoice table:\n",
      "InvoiceId\tCustomerId\tInvoiceDate\tBillingAddress\tBillingCity\tBillingState\tBillingCountry\tBillingPostalCode\tTotal\n",
      "1\t2\t2021-01-01 00:00:00\tTheodor-Heuss-Straße 34\tStuttgart\tNone\tGermany\t70174\t1.98\n",
      "2\t4\t2021-01-02 00:00:00\tUllevålsveien 14\tOslo\tNone\tNorway\t0171\t3.96\n",
      "3\t8\t2021-01-03 00:00:00\tGrétrystraat 63\tBrussels\tNone\tBelgium\t1000\t5.94\n",
      "*/\n",
      "==================================\u001b[1m Ai Message \u001b[0m==================================\n",
      "Tool Calls:\n",
      "  sql_db_query (call_gcq1Bgfc60XbtY9XIO1u1pAd)\n",
      " Call ID: call_gcq1Bgfc60XbtY9XIO1u1pAd\n",
      "  Args:\n",
      "    query: SELECT a.Title, SUM(il.Quantity * il.UnitPrice) AS TotalSales\n",
      "FROM Album a\n",
      "JOIN Track t ON a.AlbumId = t.AlbumId\n",
      "JOIN InvoiceLine il ON t.TrackId = il.TrackId\n",
      "GROUP BY a.AlbumId\n",
      "ORDER BY TotalSales DESC\n",
      "LIMIT 2;\n",
      "=================================\u001b[1m Tool Message \u001b[0m=================================\n",
      "Name: sql_db_query\n",
      "\n",
      "[('Battlestar Galactica (Classic), Season 1', 35.82), ('The Office, Season 3', 31.84)]\n",
      "==================================\u001b[1m Ai Message \u001b[0m==================================\n",
      "Tool Calls:\n",
      "  sql_db_query (call_nHrqMdlyqabbteFLfic4lm60)\n",
      " Call ID: call_nHrqMdlyqabbteFLfic4lm60\n",
      "  Args:\n",
      "    query: SELECT COUNT(DISTINCT c.CustomerId) AS NumberOfCustomers,\n",
      "       (SELECT COUNT(DISTINCT i.CustomerId)\n",
      "        FROM Invoice i\n",
      "        JOIN InvoiceLine il ON i.InvoiceId = il.InvoiceId\n",
      "        JOIN Track t ON il.TrackId = t.TrackId\n",
      "        JOIN Album a ON t.AlbumId = a.AlbumId\n",
      "        WHERE a.Title IN ('Battlestar Galactica (Classic), Season 1', 'The Office, Season 3')) AS CustomersFromTopAlbums\n",
      "FROM Customer c;\n",
      "=================================\u001b[1m Tool Message \u001b[0m=================================\n",
      "Name: sql_db_query\n",
      "\n",
      "[(59, 13)]\n",
      "==================================\u001b[1m Ai Message \u001b[0m==================================\n",
      "\n",
      "To determine the percentage of customers who have bought tracks from the two albums with the highest sales ('Battlestar Galactica (Classic), Season 1' and 'The Office, Season 3'), we found the following:\n",
      "\n",
      "- Total number of customers: 59\n",
      "- Number of customers who bought tracks from the top albums: 13\n",
      "\n",
      "The percentage of customers who have purchased tracks from these albums is calculated as follows:\n",
      "\n",
      "\\[\n",
      "\\text{Percentage} = \\left(\\frac{\\text{CustomersFromTopAlbums}}{\\text{NumberOfCustomers}}\\right) \\times 100 = \\left(\\frac{13}{59}\\right) \\times 100 \\approx 22.03\\%\n",
      "\\]\n",
      "\n",
      "Thus, approximately **22.03%** of customers have bought tracks from these two albums.\n"
     ]
    },
    {
     "data": {
      "text/markdown": [
       "To determine the percentage of customers who have bought tracks from the two albums with the highest sales ('Battlestar Galactica (Classic), Season 1' and 'The Office, Season 3'), we found the following:\n",
       "\n",
       "- Total number of customers: 59\n",
       "- Number of customers who bought tracks from the top albums: 13\n",
       "\n",
       "The percentage of customers who have purchased tracks from these albums is calculated as follows:\n",
       "\n",
       "\\[\n",
       "\\text{Percentage} = \\left(\\frac{\\text{CustomersFromTopAlbums}}{\\text{NumberOfCustomers}}\\right) \\times 100 = \\left(\\frac{13}{59}\\right) \\times 100 \\approx 22.03\\%\n",
       "\\]\n",
       "\n",
       "Thus, approximately **22.03%** of customers have bought tracks from these two albums."
      ],
      "text/plain": [
       "<IPython.core.display.Markdown object>"
      ]
     },
     "metadata": {},
     "output_type": "display_data"
    }
   ],
   "source": [
    "question = \"Defining sales as the product of quantity by unit price, what percent of customers have bought tracks from the 2 albums with the higest sales?\"\n",
    "render(my_agent.stream_answer(question))"
   ]
  },
  {
   "cell_type": "markdown",
   "metadata": {},
   "source": [
    "We modify the system prompt to include a definition of sales for any question."
   ]
  },
  {
   "cell_type": "code",
   "execution_count": 17,
   "metadata": {},
   "outputs": [],
   "source": [
    "new_system_message = '''System: You are an agent designed to interact with a SQL database.\n",
    "Given an input question, create a syntactically correct SQLite query to run, then look at the results of the query and return the answer.\n",
    "Unless the user specifies a specific number of examples they wish to obtain, always limit your query to at most 5 results.\n",
    "You can order the results by a relevant column to return the most interesting examples in the database.\n",
    "Never query for all the columns from a specific table, only ask for the relevant columns given the question.\n",
    "You have access to tools for interacting with the database.\n",
    "Only use the below tools. Only use the information returned by the below tools to construct your final answer.\n",
    "You MUST double check your query before executing it. If you get an error while executing a query, rewrite the query and try again.\n",
    "\n",
    "DO NOT make any DML statements (INSERT, UPDATE, DELETE, DROP etc.) to the database.\n",
    "\n",
    "To start you should ALWAYS look at the tables in the database to see what you can query.\n",
    "Do NOT skip this step.\n",
    "Then you should query the schema of the most relevant tables.\n",
    "Sales are defined by the product of Quantity and Unit Price not just quantity.'''\n",
    "\n",
    "my_agent.set_custom_system_message(new_system_message)\n",
    "my_agent.initialize_agent()"
   ]
  },
  {
   "cell_type": "markdown",
   "metadata": {},
   "source": [
    "We asked the same question without explicitely defining sales. "
   ]
  },
  {
   "cell_type": "code",
   "execution_count": 18,
   "metadata": {},
   "outputs": [
    {
     "name": "stdout",
     "output_type": "stream",
     "text": [
      "================================\u001b[1m Human Message \u001b[0m=================================\n",
      "\n",
      "What percent of customers have bought tracks from the 2 albums with the higest sales?\n",
      "==================================\u001b[1m Ai Message \u001b[0m==================================\n",
      "Tool Calls:\n",
      "  sql_db_list_tables (call_rEhpWjH4eaeD37bJO5o2e8ff)\n",
      " Call ID: call_rEhpWjH4eaeD37bJO5o2e8ff\n",
      "  Args:\n",
      "=================================\u001b[1m Tool Message \u001b[0m=================================\n",
      "Name: sql_db_list_tables\n",
      "\n",
      "Album, Artist, Customer, Employee, Genre, Invoice, InvoiceLine, MediaType, Playlist, PlaylistTrack, Track\n",
      "==================================\u001b[1m Ai Message \u001b[0m==================================\n",
      "Tool Calls:\n",
      "  sql_db_schema (call_T5NSEz0H9whCPcssH5phMOtW)\n",
      " Call ID: call_T5NSEz0H9whCPcssH5phMOtW\n",
      "  Args:\n",
      "    table_names: Album\n",
      "  sql_db_schema (call_j1r6VJXTEaBMgc2r3h1IyIox)\n",
      " Call ID: call_j1r6VJXTEaBMgc2r3h1IyIox\n",
      "  Args:\n",
      "    table_names: Invoice\n",
      "  sql_db_schema (call_DR6FTAPtQX4cVevYOoNyUi9W)\n",
      " Call ID: call_DR6FTAPtQX4cVevYOoNyUi9W\n",
      "  Args:\n",
      "    table_names: InvoiceLine\n",
      "  sql_db_schema (call_10MkQw54Q84VNACwQh1zmcrG)\n",
      " Call ID: call_10MkQw54Q84VNACwQh1zmcrG\n",
      "  Args:\n",
      "    table_names: Track\n",
      "  sql_db_schema (call_HamNS52fluUVuPzE9htvVqAb)\n",
      " Call ID: call_HamNS52fluUVuPzE9htvVqAb\n",
      "  Args:\n",
      "    table_names: Customer\n",
      "=================================\u001b[1m Tool Message \u001b[0m=================================\n",
      "Name: sql_db_schema\n",
      "\n",
      "\n",
      "CREATE TABLE \"Customer\" (\n",
      "\t\"CustomerId\" INTEGER NOT NULL, \n",
      "\t\"FirstName\" NVARCHAR(40) NOT NULL, \n",
      "\t\"LastName\" NVARCHAR(20) NOT NULL, \n",
      "\t\"Company\" NVARCHAR(80), \n",
      "\t\"Address\" NVARCHAR(70), \n",
      "\t\"City\" NVARCHAR(40), \n",
      "\t\"State\" NVARCHAR(40), \n",
      "\t\"Country\" NVARCHAR(40), \n",
      "\t\"PostalCode\" NVARCHAR(10), \n",
      "\t\"Phone\" NVARCHAR(24), \n",
      "\t\"Fax\" NVARCHAR(24), \n",
      "\t\"Email\" NVARCHAR(60) NOT NULL, \n",
      "\t\"SupportRepId\" INTEGER, \n",
      "\tPRIMARY KEY (\"CustomerId\"), \n",
      "\tFOREIGN KEY(\"SupportRepId\") REFERENCES \"Employee\" (\"EmployeeId\")\n",
      ")\n",
      "\n",
      "/*\n",
      "3 rows from Customer table:\n",
      "CustomerId\tFirstName\tLastName\tCompany\tAddress\tCity\tState\tCountry\tPostalCode\tPhone\tFax\tEmail\tSupportRepId\n",
      "1\tLuís\tGonçalves\tEmbraer - Empresa Brasileira de Aeronáutica S.A.\tAv. Brigadeiro Faria Lima, 2170\tSão José dos Campos\tSP\tBrazil\t12227-000\t+55 (12) 3923-5555\t+55 (12) 3923-5566\tluisg@embraer.com.br\t3\n",
      "2\tLeonie\tKöhler\tNone\tTheodor-Heuss-Straße 34\tStuttgart\tNone\tGermany\t70174\t+49 0711 2842222\tNone\tleonekohler@surfeu.de\t5\n",
      "3\tFrançois\tTremblay\tNone\t1498 rue Bélanger\tMontréal\tQC\tCanada\tH2G 1A7\t+1 (514) 721-4711\tNone\tftremblay@gmail.com\t3\n",
      "*/\n",
      "==================================\u001b[1m Ai Message \u001b[0m==================================\n",
      "Tool Calls:\n",
      "  sql_db_query (call_9JO8dHr6ZUGxVSyaq8ik9ChY)\n",
      " Call ID: call_9JO8dHr6ZUGxVSyaq8ik9ChY\n",
      "  Args:\n",
      "    query: SELECT a.AlbumId, a.Title, SUM(il.Quantity * il.UnitPrice) AS Sales\n",
      "FROM Album a\n",
      "JOIN Track t ON a.AlbumId = t.AlbumId\n",
      "JOIN InvoiceLine il ON t.TrackId = il.TrackId\n",
      "GROUP BY a.AlbumId, a.Title\n",
      "ORDER BY Sales DESC\n",
      "LIMIT 2;\n",
      "=================================\u001b[1m Tool Message \u001b[0m=================================\n",
      "Name: sql_db_query\n",
      "\n",
      "[(253, 'Battlestar Galactica (Classic), Season 1', 35.82), (251, 'The Office, Season 3', 31.84)]\n",
      "==================================\u001b[1m Ai Message \u001b[0m==================================\n",
      "Tool Calls:\n",
      "  sql_db_query (call_XnQ4HQS7IGGaDmtjG5dVWKvS)\n",
      " Call ID: call_XnQ4HQS7IGGaDmtjG5dVWKvS\n",
      "  Args:\n",
      "    query: SELECT COUNT(DISTINCT CustomerId) AS UniqueCustomers\n",
      "FROM InvoiceLine il\n",
      "JOIN Track t ON il.TrackId = t.TrackId\n",
      "WHERE t.AlbumId IN (253, 251);\n",
      "=================================\u001b[1m Tool Message \u001b[0m=================================\n",
      "Name: sql_db_query\n",
      "\n",
      "Error: (sqlite3.OperationalError) no such column: CustomerId\n",
      "[SQL: SELECT COUNT(DISTINCT CustomerId) AS UniqueCustomers\n",
      "FROM InvoiceLine il\n",
      "JOIN Track t ON il.TrackId = t.TrackId\n",
      "WHERE t.AlbumId IN (253, 251);]\n",
      "(Background on this error at: https://sqlalche.me/e/20/e3q8)\n",
      "==================================\u001b[1m Ai Message \u001b[0m==================================\n",
      "Tool Calls:\n",
      "  sql_db_query (call_g9QUhIQpABJjelsnqAPXMG0i)\n",
      " Call ID: call_g9QUhIQpABJjelsnqAPXMG0i\n",
      "  Args:\n",
      "    query: SELECT COUNT(DISTINCT i.CustomerId) AS UniqueCustomers\n",
      "FROM InvoiceLine il\n",
      "JOIN Track t ON il.TrackId = t.TrackId\n",
      "JOIN Invoice i ON il.InvoiceId = i.InvoiceId\n",
      "WHERE t.AlbumId IN (253, 251);\n",
      "=================================\u001b[1m Tool Message \u001b[0m=================================\n",
      "Name: sql_db_query\n",
      "\n",
      "[(13,)]\n",
      "==================================\u001b[1m Ai Message \u001b[0m==================================\n",
      "Tool Calls:\n",
      "  sql_db_query (call_st9SLrFbeatJxceureawBoEu)\n",
      " Call ID: call_st9SLrFbeatJxceureawBoEu\n",
      "  Args:\n",
      "    query: SELECT COUNT(DISTINCT CustomerId) AS TotalCustomers FROM Customer;\n",
      "=================================\u001b[1m Tool Message \u001b[0m=================================\n",
      "Name: sql_db_query\n",
      "\n",
      "[(59,)]\n",
      "==================================\u001b[1m Ai Message \u001b[0m==================================\n",
      "\n",
      "The two albums with the highest sales are:\n",
      "\n",
      "1. **Battlestar Galactica (Classic), Season 1** - $35.82\n",
      "2. **The Office, Season 3** - $31.84\n",
      "\n",
      "A total of **13 unique customers** purchased tracks from these two albums. There are **59 total customers** in the database.\n",
      "\n",
      "To calculate the percentage of customers who purchased tracks from the two albums:\n",
      "\n",
      "\\[\n",
      "\\text{Percentage} = \\left( \\frac{\\text{Unique Customers}}{\\text{Total Customers}} \\right) \\times 100\n",
      "= \\left( \\frac{13}{59} \\right) \\times 100 \\approx 22.03\\%\n",
      "\\]\n",
      "\n",
      "Thus, approximately **22.03%** of customers have bought tracks from the two albums with the highest sales.\n"
     ]
    },
    {
     "data": {
      "text/markdown": [
       "The two albums with the highest sales are:\n",
       "\n",
       "1. **Battlestar Galactica (Classic), Season 1** - $35.82\n",
       "2. **The Office, Season 3** - $31.84\n",
       "\n",
       "A total of **13 unique customers** purchased tracks from these two albums. There are **59 total customers** in the database.\n",
       "\n",
       "To calculate the percentage of customers who purchased tracks from the two albums:\n",
       "\n",
       "\\[\n",
       "\\text{Percentage} = \\left( \\frac{\\text{Unique Customers}}{\\text{Total Customers}} \\right) \\times 100\n",
       "= \\left( \\frac{13}{59} \\right) \\times 100 \\approx 22.03\\%\n",
       "\\]\n",
       "\n",
       "Thus, approximately **22.03%** of customers have bought tracks from the two albums with the highest sales."
      ],
      "text/plain": [
       "<IPython.core.display.Markdown object>"
      ]
     },
     "metadata": {},
     "output_type": "display_data"
    }
   ],
   "source": [
    "question = \"What percent of customers have bought tracks from the 2 albums with the higest sales?\"\n",
    "render(my_agent.stream_answer(question))"
   ]
  }
 ],
 "metadata": {
  "kernelspec": {
   "display_name": ".venv",
   "language": "python",
   "name": "python3"
  },
  "language_info": {
   "codemirror_mode": {
    "name": "ipython",
    "version": 3
   },
   "file_extension": ".py",
   "mimetype": "text/x-python",
   "name": "python",
   "nbconvert_exporter": "python",
   "pygments_lexer": "ipython3",
   "version": "3.11.10"
  }
 },
 "nbformat": 4,
 "nbformat_minor": 2
}
